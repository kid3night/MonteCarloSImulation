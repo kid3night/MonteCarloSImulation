{
 "cells": [
  {
   "cell_type": "code",
   "execution_count": 186,
   "metadata": {},
   "outputs": [],
   "source": [
    "import pandas as pd\n",
    "import numpy as np\n",
    "from numpy.linalg import inv\n",
    "from itertools import cycle\n",
    "%matplotlib inline\n",
    "import matplotlib.pyplot as plt\n",
    "plt.matplotlib.rcParams['figure.figsize'] = (6,6)"
   ]
  },
  {
   "cell_type": "markdown",
   "metadata": {},
   "source": [
    "Question 1"
   ]
  },
  {
   "cell_type": "code",
   "execution_count": 187,
   "metadata": {},
   "outputs": [],
   "source": [
    "def Path_simulation(n, T):\n",
    "    S0 = 40\n",
    "    periods = T * 50\n",
    "    sigma = .2\n",
    "    r = .06\n",
    "    delta = 1 / 50.0\n",
    "    discFactor = np.exp(-r * T)\n",
    "    c = np.zeros(n);\n",
    "    z = np.random.normal(0, 1, (n, periods))\n",
    "    z_anti = -z\n",
    "    prices_paths = np.zeros((n, periods))\n",
    "    prices_paths_anti = np.zeros((n, periods))\n",
    "    prices_paths[:, 0] = S0 * np.exp((r - .5 * sigma ** 2) * delta + sigma * np.sqrt(delta) * z[:, 0])\n",
    "    prices_paths_anti[:, 0] = S0 * np.exp((r - .5 * sigma ** 2) * delta + sigma * np.sqrt(delta) * z_anti[:, 0])\n",
    "    for i in xrange(1, periods):\n",
    "        prices_paths[:, i] = prices_paths[:, i - 1] *\\\n",
    "                                np.exp((r - .5 * sigma ** 2) * delta +\n",
    "                                       sigma * np.sqrt(delta) * z[:, i])\n",
    "        prices_paths_anti[:, i] = prices_paths_anti[:, i - 1] *\\\n",
    "                                    np.exp((r - .5 * sigma ** 2) * delta +\n",
    "                                        sigma * np.sqrt(delta) * z_anti[:, i])\n",
    "    return (prices_paths, prices_paths_anti)"
   ]
  },
  {
   "cell_type": "code",
   "execution_count": 194,
   "metadata": {},
   "outputs": [],
   "source": [
    "def xy_transfer(X, y):\n",
    "    \n",
    "    X = X.reshape(-1, 1)\n",
    "    y = y.reshape(-1, 1)\n",
    "    x0 = np.ones(X.shape)\n",
    "    x1 = np.exp(-X / 2)\n",
    "    x2 = x1 * (1 - X)\n",
    "    x3 = x1 * (1 - 2 * X + X ** 2 / 2)\n",
    "    new_X = np.concatenate((x0, x1, x2, x3), axis=1)\n",
    "    return(np.matrix(new_X), np.matrix(y))\n",
    "\n",
    "\n",
    "\n",
    "def Path_Regression(n, T, path, K):\n",
    "    r = .06\n",
    "    delta = 1 / 50.0\n",
    "    periods = T * 50\n",
    "    discFactor = np.exp(-r * delta)\n",
    "    Tau = (np.ones(n) * periods).astype(int) - 1\n",
    "    selec_v = np.arange(n)\n",
    "    Payoff_M = np.where(K > path, K - path, 0)\n",
    "    for i in range(periods - 2, -1, -1):\n",
    "        discFactor_ = discFactor ** (Tau - i)\n",
    "        y = Payoff_M[selec_v, Tau] * discFactor_\n",
    "        in_the_money = Payoff_M[:, i] > 0\n",
    "        X = path[:, i] / K\n",
    "        y = np.where(in_the_money, y, 0)\n",
    "        X, y = xy_transfer(X, y)\n",
    "        X[~in_the_money, :] = 0\n",
    "        y_exc = np.where(in_the_money, Payoff_M[:, i], 0)\n",
    "        Y_p = X * (inv(X.T * X) * X.T * y)\n",
    "        Tau[y_exc > Y_p.A1] = i \n",
    "    \n",
    "    discFactor_ = discFactor ** (Tau + 1)\n",
    "    all_payoff = Payoff_M[selec_v, Tau] * discFactor_\n",
    "    return all_payoff\n",
    "\n",
    "\n",
    "\n",
    "def anti_simulation(n, T, K):\n",
    "    path1, path2 = Path_simulation(n, T)\n",
    "    x1 = Path_Regression(n, T, path1, K)\n",
    "    x2 = Path_Regression(n, T, path2, K)\n",
    "    mean_price = (x1 + x2) / 2\n",
    "    price = mean_price.mean()\n",
    "    ste = mean_price.std() / np.sqrt(n)\n",
    "    return price, ste"
   ]
  },
  {
   "cell_type": "code",
   "execution_count": 195,
   "metadata": {},
   "outputs": [
    {
     "data": {
      "text/plain": [
       "(2.3179262015417517, 0.0053773632288531079)"
      ]
     },
     "execution_count": 195,
     "metadata": {},
     "output_type": "execute_result"
    }
   ],
   "source": [
    "anti_simulation(50000, 1, 40)"
   ]
  },
  {
   "cell_type": "code",
   "execution_count": 196,
   "metadata": {},
   "outputs": [
    {
     "data": {
      "text/plain": [
       "(2.8853133264536028, 0.0065147846997584196)"
      ]
     },
     "execution_count": 196,
     "metadata": {},
     "output_type": "execute_result"
    }
   ],
   "source": [
    "anti_simulation(50000, 2, 40)"
   ]
  },
  {
   "cell_type": "markdown",
   "metadata": {},
   "source": [
    "Question 2"
   ]
  },
  {
   "cell_type": "code",
   "execution_count": 309,
   "metadata": {},
   "outputs": [],
   "source": [
    "from scipy.optimize import curve_fit\n",
    "from scipy.stats import norm"
   ]
  },
  {
   "cell_type": "code",
   "execution_count": 292,
   "metadata": {},
   "outputs": [],
   "source": [
    "K = 120\n",
    "\n",
    "def bslink(X, theta):\n",
    "    S0 = 100\n",
    "    r = .05\n",
    "    sigma = .2\n",
    "    T = 1\n",
    "    discFactor = np.exp(-r * T)\n",
    "    rnm = np.exp((r - .5 * sigma ** 2) * T + sigma * np.sqrt(T) * X)\n",
    "    result1 = np.where((S0 * rnm - K) > 0, (S0 * rnm - K) * discFactor, 0)\n",
    "    result2 = (np.exp(-theta * X + 0.5 * theta ** 2)) ** 0.5\n",
    "    return result1 * result2"
   ]
  },
  {
   "cell_type": "code",
   "execution_count": 293,
   "metadata": {},
   "outputs": [
    {
     "data": {
      "text/plain": [
       "(array([ 1.66233759]), array([[ 0.00198571]]))"
      ]
     },
     "execution_count": 293,
     "metadata": {},
     "output_type": "execute_result"
    }
   ],
   "source": [
    "indp = np.random.normal(0, 1, 10000)\n",
    "dep = np.zeros(10000)\n",
    "curve_fit(bslink, indp, dep, p0=1)"
   ]
  },
  {
   "cell_type": "code",
   "execution_count": 366,
   "metadata": {},
   "outputs": [
    {
     "data": {
      "text/plain": [
       "(array([ 2.20418366]), array([[ 0.00336042]]))"
      ]
     },
     "execution_count": 366,
     "metadata": {},
     "output_type": "execute_result"
    }
   ],
   "source": [
    "K = 140\n",
    "\n",
    "indp = np.random.normal(0, 1, 10000)\n",
    "dep = np.zeros(10000)\n",
    "curve_fit(bslink, indp, dep, p0=1)"
   ]
  },
  {
   "cell_type": "code",
   "execution_count": 365,
   "metadata": {},
   "outputs": [
    {
     "data": {
      "text/plain": [
       "(array([ 2.73525429]), array([[ 0.00556489]]))"
      ]
     },
     "execution_count": 365,
     "metadata": {},
     "output_type": "execute_result"
    }
   ],
   "source": [
    "K = 160\n",
    "\n",
    "indp = np.random.normal(0, 1, 10000)\n",
    "dep = np.zeros(10000)\n",
    "curve_fit(bslink, indp, dep, p0=1)"
   ]
  },
  {
   "cell_type": "code",
   "execution_count": 335,
   "metadata": {},
   "outputs": [],
   "source": [
    "def adjustment_factor(theta, Z):\n",
    "\n",
    "    adj_factor = np.exp(-theta * Z + 0.5 * theta ** 2)\n",
    "    return adj_factor\n",
    "    \n",
    "\n",
    "def E_option_pricing_importance(n, K, theta):\n",
    "\n",
    "    r = .05\n",
    "    sigma = .2\n",
    "    S0 = 100\n",
    "    T = 1\n",
    "    delta = T\n",
    "    discFactor = np.exp(-r * T)\n",
    "    c = np.zeros(n);\n",
    "    z = np.random.normal(0, 1, n)\n",
    "    z_c = z + theta\n",
    "    ST = S0 * np.exp((r - .5 * sigma ** 2) * delta + sigma * np.sqrt(delta) * z_c)\n",
    "    adj = adjustment_factor(theta, z_c)\n",
    "    pay_off = ST - K\n",
    "    payoff = np.where(pay_off > 0, pay_off, 0)\n",
    "    c = payoff * discFactor * adj\n",
    "    return (c.mean(), c.std() / np.sqrt(n))"
   ]
  },
  {
   "cell_type": "code",
   "execution_count": 336,
   "metadata": {},
   "outputs": [
    {
     "data": {
      "text/plain": [
       "(3.2702729314333703, 0.021666095099231768)"
      ]
     },
     "execution_count": 336,
     "metadata": {},
     "output_type": "execute_result"
    }
   ],
   "source": [
    "E_option_pricing_importance(10000, 120, 1.66233759)"
   ]
  },
  {
   "cell_type": "code",
   "execution_count": 339,
   "metadata": {},
   "outputs": [
    {
     "data": {
      "text/plain": [
       "(0.78144794771049741, 0.006686033896089242)"
      ]
     },
     "execution_count": 339,
     "metadata": {},
     "output_type": "execute_result"
    }
   ],
   "source": [
    "E_option_pricing_importance(10000, 140, 2.2268528)"
   ]
  },
  {
   "cell_type": "code",
   "execution_count": 340,
   "metadata": {},
   "outputs": [
    {
     "data": {
      "text/plain": [
       "(0.15923325172643168, 0.0015909132154081926)"
      ]
     },
     "execution_count": 340,
     "metadata": {},
     "output_type": "execute_result"
    }
   ],
   "source": [
    "E_option_pricing_importance(10000, 160, 2.75997713)"
   ]
  },
  {
   "cell_type": "code",
   "execution_count": 341,
   "metadata": {},
   "outputs": [],
   "source": [
    "def bslink2(X, m, s):\n",
    "#     m, s = theta\n",
    "    S0 = 100\n",
    "    r = .05\n",
    "    sigma = .2\n",
    "    T = 1\n",
    "    discFactor = np.exp(-r * T)\n",
    "    rnm = np.exp((r - .5 * sigma ** 2) * T + sigma * np.sqrt(T) * X)\n",
    "    result1 = np.where((S0 * rnm - K) > 0, (S0 * rnm - K) * discFactor, 0)\n",
    "    result2 = np.exp(-.5 * (X ** 2 - ((X - m) / np.exp(s)) ** 2)) * np.exp(s)\n",
    "    return result1 * result2"
   ]
  },
  {
   "cell_type": "code",
   "execution_count": 400,
   "metadata": {},
   "outputs": [
    {
     "name": "stdout",
     "output_type": "stream",
     "text": [
      "1.56282312802 0.65603514734\n"
     ]
    }
   ],
   "source": [
    "K = 120\n",
    "indp = np.random.normal(0, 1, 10000)\n",
    "dep = np.zeros(10000)\n",
    "x = curve_fit(bslink2, indp, dep, p0=(1, 1))\n",
    "m, exps = x[0][0], x[0][1]\n",
    "print m, np.exp(exps)"
   ]
  },
  {
   "cell_type": "code",
   "execution_count": 371,
   "metadata": {},
   "outputs": [
    {
     "name": "stdout",
     "output_type": "stream",
     "text": [
      "2.15093832242 0.529687635453\n"
     ]
    }
   ],
   "source": [
    "K = 140\n",
    "indp = np.random.normal(0, 1, 10000)\n",
    "dep = np.zeros(10000)\n",
    "x = curve_fit(bslink2, indp, dep, p0=(1, 1))\n",
    "m, exps = x[0][0], x[0][1]\n",
    "print m, np.exp(exps)"
   ]
  },
  {
   "cell_type": "code",
   "execution_count": 397,
   "metadata": {},
   "outputs": [
    {
     "name": "stdout",
     "output_type": "stream",
     "text": [
      "2.70122589344 0.474950476118\n"
     ]
    }
   ],
   "source": [
    "K = 160\n",
    "indp = np.random.normal(0, 1, 10000)\n",
    "dep = np.zeros(10000)\n",
    "x = curve_fit(bslink2, indp, dep, p0=(1, 1))\n",
    "m, exps = x[0][0], x[0][1]\n",
    "print m, np.exp(exps)"
   ]
  },
  {
   "cell_type": "code",
   "execution_count": 382,
   "metadata": {},
   "outputs": [],
   "source": [
    "def adjustment_factor_ms(m, s, Z):\n",
    "\n",
    "    adj_factor = np.exp(-.5 * (Z ** 2 - ((Z - m) / s) ** 2)) * s\n",
    "    return adj_factor\n",
    "    \n",
    "\n",
    "def E_option_pricing_importance_ms(n, K, theta, s):\n",
    "\n",
    "    r = .05\n",
    "    sigma = .2\n",
    "    S0 = 100\n",
    "    T = 1\n",
    "    delta = T\n",
    "    discFactor = np.exp(-r * T)\n",
    "    c = np.zeros(n);\n",
    "#     z = np.random.normal(0, 1, n)\n",
    "#     z_c = z + theta\n",
    "    z_c = np.random.normal(theta, s, n)\n",
    "    ST = S0 * np.exp((r - .5 * sigma ** 2) * delta + sigma * np.sqrt(delta) * z_c)\n",
    "    adj = adjustment_factor_ms(theta, s, z_c)\n",
    "    pay_off = ST - K\n",
    "    payoff = np.where(pay_off > 0, pay_off, 0)\n",
    "    c = payoff * discFactor * adj\n",
    "    return (c.mean(), c.std() / np.sqrt(n))"
   ]
  },
  {
   "cell_type": "code",
   "execution_count": 383,
   "metadata": {},
   "outputs": [
    {
     "data": {
      "text/plain": [
       "(3.2350703579755571, 0.01398934223833598)"
      ]
     },
     "execution_count": 383,
     "metadata": {},
     "output_type": "execute_result"
    }
   ],
   "source": [
    "E_option_pricing_importance_ms(10000, 120, 1.56993981901, 0.614311825363)"
   ]
  },
  {
   "cell_type": "code",
   "execution_count": 390,
   "metadata": {},
   "outputs": [
    {
     "data": {
      "text/plain": [
       "(0.7810180409596863, 0.0039222227422787631)"
      ]
     },
     "execution_count": 390,
     "metadata": {},
     "output_type": "execute_result"
    }
   ],
   "source": [
    "E_option_pricing_importance_ms(10000, 140, 2.15093832242, 0.529687635453)"
   ]
  },
  {
   "cell_type": "code",
   "execution_count": 401,
   "metadata": {},
   "outputs": [
    {
     "data": {
      "text/plain": [
       "(0.15821282634766859, 0.00085400969488653815)"
      ]
     },
     "execution_count": 401,
     "metadata": {},
     "output_type": "execute_result"
    }
   ],
   "source": [
    "E_option_pricing_importance_ms(10000, 160, 2.70122589344, 0.474950476118)"
   ]
  }
 ],
 "metadata": {
  "kernelspec": {
   "display_name": "Python [conda env:anaconda]",
   "language": "python",
   "name": "conda-env-anaconda-py"
  },
  "language_info": {
   "codemirror_mode": {
    "name": "ipython",
    "version": 2
   },
   "file_extension": ".py",
   "mimetype": "text/x-python",
   "name": "python",
   "nbconvert_exporter": "python",
   "pygments_lexer": "ipython2",
   "version": "2.7.14"
  }
 },
 "nbformat": 4,
 "nbformat_minor": 2
}
