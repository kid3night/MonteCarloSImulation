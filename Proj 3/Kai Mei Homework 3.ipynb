{
 "cells": [
  {
   "cell_type": "code",
   "execution_count": 163,
   "metadata": {},
   "outputs": [],
   "source": [
    "import pandas as pd\n",
    "import numpy as np\n",
    "\n",
    "import sklearn\n",
    "from sklearn import linear_model\n",
    "\n",
    "from itertools import cycle\n",
    "%matplotlib inline\n",
    "import matplotlib.pyplot as plt\n",
    "# import statsmodels.api as sm\n",
    "plt.matplotlib.rcParams['figure.figsize'] = (6,6)"
   ]
  },
  {
   "cell_type": "markdown",
   "metadata": {},
   "source": [
    "Question 1"
   ]
  },
  {
   "cell_type": "markdown",
   "metadata": {},
   "source": [
    "(a)"
   ]
  },
  {
   "cell_type": "code",
   "execution_count": 164,
   "metadata": {},
   "outputs": [],
   "source": [
    "from scipy.stats import norm\n",
    "\n",
    "def stad_simu(n, periods, K):\n",
    "    \n",
    "    # p -> correlation\n",
    "    # n -> sample size\n",
    "    # periods -> total periods\n",
    "    # K -> strike price\n",
    "    r = .05\n",
    "    S0 = 100\n",
    "    sigma = .2\n",
    "    T = 1\n",
    "    discFactor = np.exp(-r * T)\n",
    "    delta = T / float(periods)\n",
    "    c = np.zeros(n);\n",
    "    z1 = norm.ppf(np.random.uniform(0, 1, (n, periods)))\n",
    "    z2 = norm.ppf(np.random.uniform(0, 1, (n, periods)))\n",
    "    S1 = np.zeros((n, periods))\n",
    "    S2 = np.zeros((n, periods))\n",
    "    S1[:, 0] = S0 * np.exp((r - .5 * sigma ** 2) * delta + sigma * np.sqrt(delta) * z1[:, 0])\n",
    "    S2[:, 0] = S0 * np.exp((r - .5 * sigma ** 2) * delta + sigma * np.sqrt(delta) * z2[:, 0])    \n",
    "    St = (S1[:, -1] + S2[:, -1]) / 2\n",
    "    c = (St - K) * discFactor\n",
    "    c[c < 0] = 0\n",
    "    return (c.mean(), c.std() / np.sqrt(n))"
   ]
  },
  {
   "cell_type": "code",
   "execution_count": 165,
   "metadata": {},
   "outputs": [
    {
     "data": {
      "text/plain": [
       "(8.221230042538842, 0.32489316276468971)"
      ]
     },
     "execution_count": 165,
     "metadata": {},
     "output_type": "execute_result"
    }
   ],
   "source": [
    "stad_simu(1000, 1, 100)"
   ]
  },
  {
   "cell_type": "markdown",
   "metadata": {},
   "source": [
    "(b)"
   ]
  },
  {
   "cell_type": "code",
   "execution_count": 166,
   "metadata": {},
   "outputs": [],
   "source": [
    "def strati_binormal(n_sams, n_interv, K):\n",
    "    r = .05\n",
    "    S0 = 100\n",
    "    sigma = .2\n",
    "    T = 1\n",
    "    discFactor = np.exp(-r * T)\n",
    "    delta = T\n",
    "    intv_len = 1 / float(n_interv)\n",
    "    num_sam_interval = n_sams / n_interv\n",
    "    intervals = np.array(zip(np.arange(0, 1, intv_len),\n",
    "                             np.arange(intv_len, 1 + intv_len, intv_len)))\n",
    "    results = []\n",
    "    for inter1 in intervals:\n",
    "        z1 = norm.ppf(np.random.uniform(inter1[0], inter1[1], num_sam_interval))\n",
    "        for inter2 in intervals:\n",
    "            z2 = norm.ppf(np.random.uniform(inter2[0], inter2[1], num_sam_interval))\n",
    "            S1 = S0 * np.exp((r - .5 * sigma ** 2) * delta + sigma * np.sqrt(delta) * z1)\n",
    "            S2 = S0 * np.exp((r - .5 * sigma ** 2) * delta + sigma * np.sqrt(delta) * z2)\n",
    "            St = (S1 + S2) / 2\n",
    "            c = (St - K) * discFactor\n",
    "            c[c < 0] = 0\n",
    "            results.append((c.mean(), c.var()))\n",
    "    result = np.array(zip(*results))\n",
    "    return(result[0].mean(), np.sqrt(result[1].mean() / n_sams))"
   ]
  },
  {
   "cell_type": "code",
   "execution_count": 167,
   "metadata": {},
   "outputs": [
    {
     "data": {
      "text/plain": [
       "(8.2578803329530253, 0.094412098186479165)"
      ]
     },
     "execution_count": 167,
     "metadata": {},
     "output_type": "execute_result"
    }
   ],
   "source": [
    "strati_binormal(1000, 10, 100)"
   ]
  },
  {
   "cell_type": "markdown",
   "metadata": {},
   "source": [
    "(c)"
   ]
  },
  {
   "cell_type": "code",
   "execution_count": 168,
   "metadata": {},
   "outputs": [],
   "source": [
    "def strati_projection(n_sams, n_interv, K):\n",
    "    r = .05\n",
    "    S0 = 100\n",
    "    sigma = .2\n",
    "    T = 1\n",
    "    discFactor = np.exp(-r * T)\n",
    "    delta = T\n",
    "    nu = np.matrix(np.ones(2) / 2**0.5)\n",
    "    cov = (np.eye(2) - nu.T * nu).A\n",
    "    intv_len = 1 / float(n_interv)\n",
    "    num_sam_interval = n_sams / n_interv\n",
    "    intervals = np.array(zip(np.arange(0, 1, intv_len),\n",
    "                             np.arange(intv_len, 1 + intv_len, intv_len)))\n",
    "    results = []\n",
    "    for inters in intervals:\n",
    "        z = np.zeros((2, num_sam_interval))\n",
    "        for i in range(num_sam_interval):\n",
    "            x = norm.ppf(np.random.uniform(inters[0], inters[1], 1))\n",
    "            m = nu.A1 * x\n",
    "            z[:, i] = np.random.multivariate_normal(m, cov, 1)[0]\n",
    "        S1 = S0 * np.exp((r - .5 * sigma ** 2) * delta + sigma * np.sqrt(delta) * z[0,:]) \n",
    "        S2 = S0 * np.exp((r - .5 * sigma ** 2) * delta + sigma * np.sqrt(delta) * z[1,:])    \n",
    "        St = (S1 + S2) / 2\n",
    "        c = (St - K) * discFactor\n",
    "        c[c < 0] = 0\n",
    "        results.append((c.mean(), c.var()))\n",
    "    result = np.array(zip(*results))\n",
    "    return(result[0].mean(), np.sqrt(result[1].mean() / n_sams))"
   ]
  },
  {
   "cell_type": "code",
   "execution_count": 169,
   "metadata": {},
   "outputs": [
    {
     "data": {
      "text/plain": [
       "(8.282420502590238, 0.03163913836119104)"
      ]
     },
     "execution_count": 169,
     "metadata": {},
     "output_type": "execute_result"
    }
   ],
   "source": [
    "strati_projection(1000, 250, 100)"
   ]
  },
  {
   "cell_type": "markdown",
   "metadata": {},
   "source": [
    "Question 2"
   ]
  },
  {
   "cell_type": "markdown",
   "metadata": {},
   "source": [
    "(a)"
   ]
  },
  {
   "cell_type": "code",
   "execution_count": 225,
   "metadata": {},
   "outputs": [],
   "source": [
    "def Euler_disc(n, periods, K):\n",
    "    r = .1\n",
    "    sigma = .25\n",
    "    S0 = 50\n",
    "    T = .25\n",
    "    delta = T / float(periods)\n",
    "    discFactor = np.exp(-r * T)\n",
    "    w1 = np.random.normal(0, 1, (n, periods))\n",
    "    St = np.zeros((n, periods))\n",
    "    St[:, 0] = S0 + r * S0 * delta + np.sqrt(delta) * w1[:, 0] * S0 * sigma\n",
    "    for i in xrange(1, periods):\n",
    "        St[:, i] = St[:, i - 1] + r * St[:, i - 1] * delta + np.sqrt(delta) * w1[:, i] * St[:, i - 1] * sigma\n",
    "    return (St, discFactor)"
   ]
  },
  {
   "cell_type": "code",
   "execution_count": 226,
   "metadata": {},
   "outputs": [],
   "source": [
    "def standard_simulation(n, periods, K):\n",
    "    St, discFactor = Euler_disc(n, periods, K)\n",
    "    Smax = St.max(axis=1)\n",
    "#     print Smax\n",
    "    Ct = Smax - K\n",
    "    Ct[Ct < 0] = 0\n",
    "    c = discFactor * Ct\n",
    "    return (c.mean(), c.std() / np.sqrt(n))"
   ]
  },
  {
   "cell_type": "code",
   "execution_count": 227,
   "metadata": {},
   "outputs": [
    {
     "data": {
      "text/plain": [
       "(5.2096216282716741, 0.14010223616943157)"
      ]
     },
     "execution_count": 227,
     "metadata": {},
     "output_type": "execute_result"
    }
   ],
   "source": [
    "standard_simulation(1000, 30, 50)"
   ]
  },
  {
   "cell_type": "code",
   "execution_count": 230,
   "metadata": {},
   "outputs": [],
   "source": [
    "def brownain_bridge(n, periods, K):\n",
    "    S0 = 50\n",
    "    r = .1\n",
    "    sigma = .25\n",
    "    S0 = 50\n",
    "    T = .25\n",
    "    delta = T / float(periods)\n",
    "    St, discFactor = Euler_disc(n, periods, K)\n",
    "    bs = np.zeros((n, periods))\n",
    "    bs[:, 0] = (St[:, 0] - S0) / (sigma * S0)\n",
    "    bs[:, 1:] = (St[:, 1:] - St[:, :-1]) / St[:, :-1]\n",
    "    U = np.random.uniform(0, 1, (n, periods))\n",
    "    M = (bs + np.sqrt(bs ** 2 - 2 * delta * np.log(1 - U))) / 2\n",
    "    Smax_Series = np.zeros((n, periods))\n",
    "    Smax_Series[:, 0] = S0 + sigma * S0 * M[:, 0]\n",
    "    Smax_Series[:, 1:] = St[:, :-1] + St[:, :-1] * sigma * M[:, 1:]\n",
    "    Max_S = Smax_Series.max(axis=1)\n",
    "    sm = St.max(axis=1)\n",
    "    Ct = Max_S - K\n",
    "    Ct[Ct < 0] = 0\n",
    "    c = discFactor * Ct\n",
    "    return (c.mean(), c.std() / np.sqrt(n))"
   ]
  },
  {
   "cell_type": "code",
   "execution_count": 231,
   "metadata": {},
   "outputs": [
    {
     "data": {
      "text/plain": [
       "(5.8751354635881752, 0.14030858950022668)"
      ]
     },
     "execution_count": 231,
     "metadata": {},
     "output_type": "execute_result"
    }
   ],
   "source": [
    "brownain_bridge(1000, 30, 50)"
   ]
  },
  {
   "cell_type": "markdown",
   "metadata": {},
   "source": [
    "(b)"
   ]
  },
  {
   "cell_type": "code",
   "execution_count": 215,
   "metadata": {},
   "outputs": [],
   "source": [
    "def Euler_disc(n, periods):\n",
    "    r = .1\n",
    "    sigma = .25\n",
    "    S0 = 50\n",
    "    T = .25\n",
    "    delta = T / float(periods)\n",
    "    discFactor = np.exp(-r * T)\n",
    "    w1 = np.random.normal(0, 1, (n, periods))\n",
    "    St = np.zeros((n, periods))\n",
    "    St[:, 0] = S0 + r * S0 * delta + np.sqrt(delta) * w1[:, 0] * S0 * sigma\n",
    "    for i in xrange(1, periods):\n",
    "        St[:, i] = St[:, i - 1] + r * St[:, i - 1] * delta + np.sqrt(delta) * w1[:, i] * St[:, i - 1] * sigma\n",
    "    return (St, discFactor)"
   ]
  },
  {
   "cell_type": "code",
   "execution_count": 216,
   "metadata": {},
   "outputs": [],
   "source": [
    "def standard_simulation_stK(n, periods):\n",
    "    St, discFactor = Euler_disc(n, periods)\n",
    "    Smax = St.max(axis=1)\n",
    "    Ct = Smax - St[:, -1]\n",
    "    Ct[Ct < 0] = 0\n",
    "    c = discFactor * Ct\n",
    "    return (c.mean(), c.std() / np.sqrt(n))"
   ]
  },
  {
   "cell_type": "code",
   "execution_count": 217,
   "metadata": {},
   "outputs": [
    {
     "data": {
      "text/plain": [
       "(3.7157739746707281, 0.10067136397662017)"
      ]
     },
     "execution_count": 217,
     "metadata": {},
     "output_type": "execute_result"
    }
   ],
   "source": [
    "standard_simulation_stK(1000, 30)"
   ]
  },
  {
   "cell_type": "code",
   "execution_count": 218,
   "metadata": {},
   "outputs": [],
   "source": [
    "def brownain_bridge_stK(n, periods):\n",
    "    S0 = 50\n",
    "    r = .1\n",
    "    sigma = .25\n",
    "    S0 = 50\n",
    "    T = .25\n",
    "    delta = T / float(periods)\n",
    "    St, discFactor = Euler_disc(n, periods)\n",
    "    bs = np.zeros((n, periods))\n",
    "    bs[:, 0] = (St[:, 0] - S0) / (sigma * S0)\n",
    "    bs[:, 1:] = (St[:, 1:] - St[:, :-1]) / St[:, :-1]\n",
    "    U = np.random.uniform(0, 1, (n, periods))\n",
    "    M = (bs + np.sqrt(bs ** 2 - 2 * delta * np.log(1 - U))) / 2\n",
    "    Smax_Series = np.zeros((n, periods))\n",
    "    Smax_Series[:, 0] = S0 + sigma * S0 * M[:, 0]\n",
    "    Smax_Series[:, 1:] = St[:, :-1] + St[:, :-1] * sigma * M[:, 1:]\n",
    "    Max_S = Smax_Series.max(axis=1)\n",
    "    sm = St.max(axis=1)\n",
    "    Ct = Max_S - St[:, -1]\n",
    "    Ct[Ct < 0] = 0\n",
    "    c = discFactor * Ct\n",
    "    return (c.mean(), c.std() / np.sqrt(n))"
   ]
  },
  {
   "cell_type": "code",
   "execution_count": 219,
   "metadata": {},
   "outputs": [
    {
     "data": {
      "text/plain": [
       "(4.5928387589227313, 0.10495917585629978)"
      ]
     },
     "execution_count": 219,
     "metadata": {},
     "output_type": "execute_result"
    }
   ],
   "source": [
    "brownain_bridge_stK(1000, 30)"
   ]
  },
  {
   "cell_type": "markdown",
   "metadata": {},
   "source": [
    "(c)"
   ]
  },
  {
   "cell_type": "code",
   "execution_count": 220,
   "metadata": {},
   "outputs": [],
   "source": [
    "def Euler_disc(n, periods, K):\n",
    "    r = .1\n",
    "    sigma = .5\n",
    "    S0 = 50\n",
    "    T = .25\n",
    "    delta = T / float(periods)\n",
    "    discFactor = np.exp(-r * T)\n",
    "    w1 = np.random.normal(0, 1, (n, periods))\n",
    "    St = np.zeros((n, periods))\n",
    "    St[:, 0] = S0 + r * S0 * delta + np.sqrt(delta) * w1[:, 0] * S0 * sigma\n",
    "    for i in xrange(1, periods):\n",
    "        St[:, i] = St[:, i - 1] + r * St[:, i - 1] * delta + np.sqrt(delta) * w1[:, i] * St[:, i - 1] * sigma\n",
    "    return (St, discFactor)"
   ]
  },
  {
   "cell_type": "code",
   "execution_count": 221,
   "metadata": {},
   "outputs": [],
   "source": [
    "def standard_simulation_MIN(n, periods, K, H):\n",
    "    St, discFactor = Euler_disc(n, periods, K)\n",
    "    Smin = St.min(axis=1)\n",
    "    Ct = St[:, -1] - K\n",
    "    Ct[(Ct < 0) | (Smin < H)] = 0\n",
    "    c = discFactor * Ct\n",
    "    return (c.mean(), c.std() / np.sqrt(n))"
   ]
  },
  {
   "cell_type": "code",
   "execution_count": 222,
   "metadata": {
    "scrolled": true
   },
   "outputs": [
    {
     "data": {
      "text/plain": [
       "(4.5206341436058066, 0.027157662823059151)"
      ]
     },
     "execution_count": 222,
     "metadata": {},
     "output_type": "execute_result"
    }
   ],
   "source": [
    "standard_simulation_MIN(100000, 30, 50, 45)"
   ]
  },
  {
   "cell_type": "code",
   "execution_count": 223,
   "metadata": {},
   "outputs": [],
   "source": [
    "def brownain_bridge_MIN(n, periods, K, H):\n",
    "    S0 = 50\n",
    "    r = .1\n",
    "    sigma = .5\n",
    "    T = .25\n",
    "    delta = T / float(periods)\n",
    "    St, discFactor = Euler_disc(n, periods, K)\n",
    "    bs = np.zeros((n, periods))\n",
    "    bs[:, 0] = (St[:, 0] - S0) / (sigma * S0)\n",
    "    bs[:, 1:] = (St[:, 1:] - St[:, :-1]) / St[:, :-1]\n",
    "    U = np.random.uniform(0, 1, (n, periods))\n",
    "    M = (bs - np.sqrt(bs ** 2 - 2 * delta * np.log(1 - U))) / 2\n",
    "    Smin_Series = np.zeros((n, periods))\n",
    "    Smin_Series[:, 0] = S0 + sigma * S0 * M[:, 0]\n",
    "    Smin_Series[:, 1:] = St[:, :-1] + St[:, :-1] * sigma * M[:, 1:]\n",
    "    Min_S = Smin_Series.min(axis=1)\n",
    "    Ct = St[:, -1] - K\n",
    "    Ct[(Ct < 0) | (Min_S < H)] = 0\n",
    "    c = discFactor * Ct\n",
    "    return (c.mean(), c.std() / np.sqrt(n))"
   ]
  },
  {
   "cell_type": "code",
   "execution_count": 224,
   "metadata": {},
   "outputs": [
    {
     "data": {
      "text/plain": [
       "(4.0409289453206858, 0.02679532290501321)"
      ]
     },
     "execution_count": 224,
     "metadata": {},
     "output_type": "execute_result"
    }
   ],
   "source": [
    "brownain_bridge_MIN(100000, 30, 50, 45)"
   ]
  },
  {
   "cell_type": "markdown",
   "metadata": {},
   "source": [
    "Question 3"
   ]
  },
  {
   "cell_type": "markdown",
   "metadata": {},
   "source": [
    "(a)"
   ]
  },
  {
   "cell_type": "code",
   "execution_count": 279,
   "metadata": {},
   "outputs": [],
   "source": [
    "def correlated_randoms_v(p, n, N):\n",
    "\n",
    "    # p -> correlation\n",
    "    # n -> sample size\n",
    "    # N -> sample dimension\n",
    "    # vectorized version\n",
    "    cor_matrix = np.matrix(np.ones((N, N)) * p)\n",
    "    np.fill_diagonal(cor_matrix, 1)\n",
    "    cor_decomposed = np.linalg.cholesky(cor_matrix)\n",
    "    result = np.zeros((N, n))\n",
    "    r_n = np.matrix(np.random.normal(0, 1, (N, n)))\n",
    "    copula_transfer = np.array(cor_decomposed * r_n)\n",
    "    return copula_transfer "
   ]
  },
  {
   "cell_type": "code",
   "execution_count": 280,
   "metadata": {},
   "outputs": [],
   "source": [
    "def Euler_disc(n, periods, K):\n",
    "    r = .1\n",
    "    sigma = .5\n",
    "    S0 = 50\n",
    "    T = .25\n",
    "    delta = T / float(periods)\n",
    "    discFactor = np.exp(-r * T)\n",
    "    w1 = np.random.normal(0, 1, (n, periods))\n",
    "    St = np.zeros((n, periods))\n",
    "    St[:, 0] = S0 + r * S0 * delta + np.sqrt(delta) * w1[:, 0] * S0 * sigma\n",
    "    for i in xrange(1, periods):\n",
    "        St[:, i] = St[:, i - 1] + r * St[:, i - 1] * delta + np.sqrt(delta) * w1[:, i] * St[:, i - 1] * sigma\n",
    "    return (St, discFactor)"
   ]
  },
  {
   "cell_type": "code",
   "execution_count": 281,
   "metadata": {},
   "outputs": [],
   "source": [
    "def stad_simulation_v(p, n, periods, K):\n",
    "    \n",
    "    # p -> correlation\n",
    "    # n -> sample size\n",
    "    # periods -> total periods\n",
    "    # K -> strike price\n",
    "    r = .1\n",
    "    S0 = 100\n",
    "    sigma = 0.3\n",
    "    T = .2\n",
    "    H = 95\n",
    "    discFactor = np.exp(-r * T)\n",
    "    delta = T / float(periods)\n",
    "    c = np.zeros(n);\n",
    "    for t in xrange(n):\n",
    "        prices_paths = np.zeros((2, periods))\n",
    "        zs = correlated_randoms_v(p, periods, 2)\n",
    "        prices_paths[:, 0] = S0 + r * S0 * delta + np.sqrt(delta) * zs[:, 0] * S0 * sigma\n",
    "        for i in xrange(1, periods):\n",
    "            prices_paths[:, i] = prices_paths[:, i - 1] + r * prices_paths[:, i - 1] * delta +\\\n",
    "                                    np.sqrt(delta) * zs[:, i] * prices_paths[:, i - 1] * sigma\n",
    "            \n",
    "        St1 = prices_paths[0, -1]\n",
    "        St2_min = prices_paths[1, :].min()\n",
    "        if St1 > K and St2_min > H:\n",
    "            c[t] = (St1 - K) * discFactor\n",
    "        \n",
    "    return (c.mean(), c.std() / np.sqrt(n))"
   ]
  },
  {
   "cell_type": "code",
   "execution_count": 282,
   "metadata": {},
   "outputs": [
    {
     "data": {
      "text/plain": [
       "(3.6079428732583745, 0.079913487088217536)"
      ]
     },
     "execution_count": 282,
     "metadata": {},
     "output_type": "execute_result"
    }
   ],
   "source": [
    "stad_simulation_v(0.5, 10000, 50, 100)"
   ]
  },
  {
   "cell_type": "markdown",
   "metadata": {},
   "source": [
    "(b)"
   ]
  },
  {
   "cell_type": "code",
   "execution_count": 283,
   "metadata": {},
   "outputs": [],
   "source": [
    "def Euler_disc_q3(p, periods, K):\n",
    "    r = .1\n",
    "    S0 = 100\n",
    "    sigmas = .3\n",
    "    T = .2\n",
    "    H = 95\n",
    "    delta = T / float(periods)\n",
    "    discFactor = np.exp(-r * T)\n",
    "    St = np.zeros((2, periods))\n",
    "    ws = correlated_randoms_v(p, periods, 2)\n",
    "    St[:, 0] = S0 + r * S0 * delta + np.sqrt(delta) * ws[:, 0] * S0 * sigmas\n",
    "    for i in xrange(1, periods):\n",
    "        St[:, i] = St[:, i - 1] + r * St[:, i - 1] * delta + np.sqrt(delta) * ws[:, i] * St[:, i - 1] * sigmas\n",
    "    return St"
   ]
  },
  {
   "cell_type": "code",
   "execution_count": 286,
   "metadata": {},
   "outputs": [],
   "source": [
    "def brownain_bridge_MIN_q3(n, p, periods, K, H):\n",
    "    S0 = 100\n",
    "    r = .1\n",
    "    sigma = .3\n",
    "    T = .2\n",
    "    H = 95\n",
    "    delta = T / float(periods)\n",
    "    discFactor = np.exp(-r * T)\n",
    "    c = np.zeros(n)\n",
    "    for i in xrange(n):\n",
    "        \n",
    "        St  = Euler_disc_q3(p, periods, K)\n",
    "        bs = np.zeros((periods))\n",
    "        S2 = St[1, :]\n",
    "        bs[0] = (S2[0] - S0) / (sigma * S0)\n",
    "        bs[1:] = (S2[1:] - S2[:-1]) / S2[:-1]\n",
    "        U = np.random.uniform(0, 1, (periods))\n",
    "        M = (bs - np.sqrt(bs ** 2 - 2 * delta * np.log(1 - U))) / 2\n",
    "        Smin_Series = np.zeros((periods))\n",
    "        Smin_Series[0] = S0 + sigma * S0 * M[0]\n",
    "        Smin_Series[1:] = S2[:-1] + S2[:-1] * sigma * M[1:]\n",
    "        Min_S = Smin_Series.min()\n",
    "        if St[0, -1] > K and Min_S > H:\n",
    "            c[i] = discFactor * (St[0, -1] - K)\n",
    "    return (c.mean(), c.std() / np.sqrt(n))"
   ]
  },
  {
   "cell_type": "code",
   "execution_count": 287,
   "metadata": {},
   "outputs": [
    {
     "data": {
      "text/plain": [
       "(3.1485536798941727, 0.077751596285162816)"
      ]
     },
     "execution_count": 287,
     "metadata": {},
     "output_type": "execute_result"
    }
   ],
   "source": [
    "brownain_bridge_MIN_q3(10000, 0.5, 50, 100, 95)"
   ]
  },
  {
   "cell_type": "markdown",
   "metadata": {},
   "source": [
    "Question 4\n"
   ]
  },
  {
   "cell_type": "code",
   "execution_count": 81,
   "metadata": {},
   "outputs": [],
   "source": [
    "from scipy.stats import norm\n",
    "\n",
    "def copula_randoms(p, n, N):\n",
    "\n",
    "    # p -> correlation\n",
    "    # n -> sample size\n",
    "    # N -> sample dimension\n",
    "    cor_matrix = np.matrix(np.ones((N, N)) * p)\n",
    "    np.fill_diagonal(cor_matrix, 1)\n",
    "    cor_decomposed = np.linalg.cholesky(cor_matrix)\n",
    "    samples = np.zeros((N, n))\n",
    "    for i in xrange(n):\n",
    "        r_n = np.matrix(np.random.normal(0, 1, N).reshape(-1, 1))\n",
    "        copula_transfer = (cor_decomposed * r_n).reshape(1, -1)\n",
    "        samples[:, i] = copula_transfer\n",
    "    result = norm.cdf(samples)\n",
    "    return result \n"
   ]
  },
  {
   "cell_type": "code",
   "execution_count": 111,
   "metadata": {},
   "outputs": [],
   "source": [
    "def sample_result(p, n):\n",
    "\n",
    "    # p -> correlation\n",
    "    # n -> sample size\n",
    "    T = 5\n",
    "    N = 5\n",
    "    r = .04\n",
    "    s = .01\n",
    "    R = .35\n",
    "    disc_factor_payoff = np.exp(-r * T) * (1 - R)\n",
    "    lam = s / (1 - R)\n",
    "    U_randoms = copula_randoms(p, n, 5)\n",
    "    Exponential_transfer = -1 / lam * np.log(U_randoms)\n",
    "    default_times = (Exponential_transfer < T).sum(axis=0)\n",
    "    ftd  = ((default_times >= 1) * disc_factor_payoff)\n",
    "    std = ((default_times >= 2) * disc_factor_payoff)\n",
    "    thdtd = ((default_times >= 3) * disc_factor_payoff)\n",
    "    fthtd = ((default_times >= 4) * disc_factor_payoff)\n",
    "    ntd = ((default_times >= 5) * disc_factor_payoff)\n",
    "    meanS = np.array([ftd.mean(), std.mean(), thdtd.mean(), fthtd.mean(), ntd.mean()])\n",
    "    StdS = np.array([ftd.std(), std.std(), thdtd.std(), fthtd.std(), ntd.std()]) / np.sqrt(n)\n",
    "    ixs = ['FTD', '2TD', '3TD', '4TD', 'NTD']\n",
    "#     colnames = ['mean', 'ste']\n",
    "    result = pd.DataFrame({'mean': meanS, 'ste': StdS}, index=ixs)\n",
    "    return result"
   ]
  },
  {
   "cell_type": "code",
   "execution_count": 112,
   "metadata": {},
   "outputs": [
    {
     "data": {
      "text/html": [
       "<div>\n",
       "<style scoped>\n",
       "    .dataframe tbody tr th:only-of-type {\n",
       "        vertical-align: middle;\n",
       "    }\n",
       "\n",
       "    .dataframe tbody tr th {\n",
       "        vertical-align: top;\n",
       "    }\n",
       "\n",
       "    .dataframe thead th {\n",
       "        text-align: right;\n",
       "    }\n",
       "</style>\n",
       "<table border=\"1\" class=\"dataframe\">\n",
       "  <thead>\n",
       "    <tr style=\"text-align: right;\">\n",
       "      <th></th>\n",
       "      <th>mean</th>\n",
       "      <th>ste</th>\n",
       "    </tr>\n",
       "  </thead>\n",
       "  <tbody>\n",
       "    <tr>\n",
       "      <th>FTD</th>\n",
       "      <td>0.169679</td>\n",
       "      <td>0.000784</td>\n",
       "    </tr>\n",
       "    <tr>\n",
       "      <th>2TD</th>\n",
       "      <td>0.025385</td>\n",
       "      <td>0.000359</td>\n",
       "    </tr>\n",
       "    <tr>\n",
       "      <th>3TD</th>\n",
       "      <td>0.001996</td>\n",
       "      <td>0.000103</td>\n",
       "    </tr>\n",
       "    <tr>\n",
       "      <th>4TD</th>\n",
       "      <td>0.000080</td>\n",
       "      <td>0.000021</td>\n",
       "    </tr>\n",
       "    <tr>\n",
       "      <th>NTD</th>\n",
       "      <td>0.000000</td>\n",
       "      <td>0.000000</td>\n",
       "    </tr>\n",
       "  </tbody>\n",
       "</table>\n",
       "</div>"
      ],
      "text/plain": [
       "         mean       ste\n",
       "FTD  0.169679  0.000784\n",
       "2TD  0.025385  0.000359\n",
       "3TD  0.001996  0.000103\n",
       "4TD  0.000080  0.000021\n",
       "NTD  0.000000  0.000000"
      ]
     },
     "execution_count": 112,
     "metadata": {},
     "output_type": "execute_result"
    }
   ],
   "source": [
    "sample_result(0, 100000)"
   ]
  },
  {
   "cell_type": "code",
   "execution_count": 113,
   "metadata": {},
   "outputs": [
    {
     "data": {
      "text/html": [
       "<div>\n",
       "<style scoped>\n",
       "    .dataframe tbody tr th:only-of-type {\n",
       "        vertical-align: middle;\n",
       "    }\n",
       "\n",
       "    .dataframe tbody tr th {\n",
       "        vertical-align: top;\n",
       "    }\n",
       "\n",
       "    .dataframe thead th {\n",
       "        text-align: right;\n",
       "    }\n",
       "</style>\n",
       "<table border=\"1\" class=\"dataframe\">\n",
       "  <thead>\n",
       "    <tr style=\"text-align: right;\">\n",
       "      <th></th>\n",
       "      <th>mean</th>\n",
       "      <th>ste</th>\n",
       "    </tr>\n",
       "  </thead>\n",
       "  <tbody>\n",
       "    <tr>\n",
       "      <th>FTD</th>\n",
       "      <td>0.152117</td>\n",
       "      <td>0.000760</td>\n",
       "    </tr>\n",
       "    <tr>\n",
       "      <th>2TD</th>\n",
       "      <td>0.036241</td>\n",
       "      <td>0.000424</td>\n",
       "    </tr>\n",
       "    <tr>\n",
       "      <th>3TD</th>\n",
       "      <td>0.007498</td>\n",
       "      <td>0.000198</td>\n",
       "    </tr>\n",
       "    <tr>\n",
       "      <th>4TD</th>\n",
       "      <td>0.001096</td>\n",
       "      <td>0.000076</td>\n",
       "    </tr>\n",
       "    <tr>\n",
       "      <th>NTD</th>\n",
       "      <td>0.000080</td>\n",
       "      <td>0.000021</td>\n",
       "    </tr>\n",
       "  </tbody>\n",
       "</table>\n",
       "</div>"
      ],
      "text/plain": [
       "         mean       ste\n",
       "FTD  0.152117  0.000760\n",
       "2TD  0.036241  0.000424\n",
       "3TD  0.007498  0.000198\n",
       "4TD  0.001096  0.000076\n",
       "NTD  0.000080  0.000021"
      ]
     },
     "execution_count": 113,
     "metadata": {},
     "output_type": "execute_result"
    }
   ],
   "source": [
    "sample_result(0.2, 100000)"
   ]
  },
  {
   "cell_type": "code",
   "execution_count": 114,
   "metadata": {},
   "outputs": [
    {
     "data": {
      "text/html": [
       "<div>\n",
       "<style scoped>\n",
       "    .dataframe tbody tr th:only-of-type {\n",
       "        vertical-align: middle;\n",
       "    }\n",
       "\n",
       "    .dataframe tbody tr th {\n",
       "        vertical-align: top;\n",
       "    }\n",
       "\n",
       "    .dataframe thead th {\n",
       "        text-align: right;\n",
       "    }\n",
       "</style>\n",
       "<table border=\"1\" class=\"dataframe\">\n",
       "  <thead>\n",
       "    <tr style=\"text-align: right;\">\n",
       "      <th></th>\n",
       "      <th>mean</th>\n",
       "      <th>ste</th>\n",
       "    </tr>\n",
       "  </thead>\n",
       "  <tbody>\n",
       "    <tr>\n",
       "      <th>FTD</th>\n",
       "      <td>0.133182</td>\n",
       "      <td>0.000729</td>\n",
       "    </tr>\n",
       "    <tr>\n",
       "      <th>2TD</th>\n",
       "      <td>0.044607</td>\n",
       "      <td>0.000466</td>\n",
       "    </tr>\n",
       "    <tr>\n",
       "      <th>3TD</th>\n",
       "      <td>0.015641</td>\n",
       "      <td>0.000284</td>\n",
       "    </tr>\n",
       "    <tr>\n",
       "      <th>4TD</th>\n",
       "      <td>0.004523</td>\n",
       "      <td>0.000154</td>\n",
       "    </tr>\n",
       "    <tr>\n",
       "      <th>NTD</th>\n",
       "      <td>0.000857</td>\n",
       "      <td>0.000067</td>\n",
       "    </tr>\n",
       "  </tbody>\n",
       "</table>\n",
       "</div>"
      ],
      "text/plain": [
       "         mean       ste\n",
       "FTD  0.133182  0.000729\n",
       "2TD  0.044607  0.000466\n",
       "3TD  0.015641  0.000284\n",
       "4TD  0.004523  0.000154\n",
       "NTD  0.000857  0.000067"
      ]
     },
     "execution_count": 114,
     "metadata": {},
     "output_type": "execute_result"
    }
   ],
   "source": [
    "sample_result(0.4, 100000)"
   ]
  },
  {
   "cell_type": "code",
   "execution_count": 115,
   "metadata": {},
   "outputs": [
    {
     "data": {
      "text/html": [
       "<div>\n",
       "<style scoped>\n",
       "    .dataframe tbody tr th:only-of-type {\n",
       "        vertical-align: middle;\n",
       "    }\n",
       "\n",
       "    .dataframe tbody tr th {\n",
       "        vertical-align: top;\n",
       "    }\n",
       "\n",
       "    .dataframe thead th {\n",
       "        text-align: right;\n",
       "    }\n",
       "</style>\n",
       "<table border=\"1\" class=\"dataframe\">\n",
       "  <thead>\n",
       "    <tr style=\"text-align: right;\">\n",
       "      <th></th>\n",
       "      <th>mean</th>\n",
       "      <th>ste</th>\n",
       "    </tr>\n",
       "  </thead>\n",
       "  <tbody>\n",
       "    <tr>\n",
       "      <th>FTD</th>\n",
       "      <td>0.112316</td>\n",
       "      <td>0.000687</td>\n",
       "    </tr>\n",
       "    <tr>\n",
       "      <th>2TD</th>\n",
       "      <td>0.048912</td>\n",
       "      <td>0.000486</td>\n",
       "    </tr>\n",
       "    <tr>\n",
       "      <th>3TD</th>\n",
       "      <td>0.023629</td>\n",
       "      <td>0.000347</td>\n",
       "    </tr>\n",
       "    <tr>\n",
       "      <th>4TD</th>\n",
       "      <td>0.010361</td>\n",
       "      <td>0.000233</td>\n",
       "    </tr>\n",
       "    <tr>\n",
       "      <th>NTD</th>\n",
       "      <td>0.003310</td>\n",
       "      <td>0.000132</td>\n",
       "    </tr>\n",
       "  </tbody>\n",
       "</table>\n",
       "</div>"
      ],
      "text/plain": [
       "         mean       ste\n",
       "FTD  0.112316  0.000687\n",
       "2TD  0.048912  0.000486\n",
       "3TD  0.023629  0.000347\n",
       "4TD  0.010361  0.000233\n",
       "NTD  0.003310  0.000132"
      ]
     },
     "execution_count": 115,
     "metadata": {},
     "output_type": "execute_result"
    }
   ],
   "source": [
    "sample_result(0.6, 100000)"
   ]
  },
  {
   "cell_type": "code",
   "execution_count": 116,
   "metadata": {},
   "outputs": [
    {
     "data": {
      "text/html": [
       "<div>\n",
       "<style scoped>\n",
       "    .dataframe tbody tr th:only-of-type {\n",
       "        vertical-align: middle;\n",
       "    }\n",
       "\n",
       "    .dataframe tbody tr th {\n",
       "        vertical-align: top;\n",
       "    }\n",
       "\n",
       "    .dataframe thead th {\n",
       "        text-align: right;\n",
       "    }\n",
       "</style>\n",
       "<table border=\"1\" class=\"dataframe\">\n",
       "  <thead>\n",
       "    <tr style=\"text-align: right;\">\n",
       "      <th></th>\n",
       "      <th>mean</th>\n",
       "      <th>ste</th>\n",
       "    </tr>\n",
       "  </thead>\n",
       "  <tbody>\n",
       "    <tr>\n",
       "      <th>FTD</th>\n",
       "      <td>0.087213</td>\n",
       "      <td>0.000623</td>\n",
       "    </tr>\n",
       "    <tr>\n",
       "      <th>2TD</th>\n",
       "      <td>0.049875</td>\n",
       "      <td>0.000490</td>\n",
       "    </tr>\n",
       "    <tr>\n",
       "      <th>3TD</th>\n",
       "      <td>0.031180</td>\n",
       "      <td>0.000395</td>\n",
       "    </tr>\n",
       "    <tr>\n",
       "      <th>4TD</th>\n",
       "      <td>0.019286</td>\n",
       "      <td>0.000315</td>\n",
       "    </tr>\n",
       "    <tr>\n",
       "      <th>NTD</th>\n",
       "      <td>0.009718</td>\n",
       "      <td>0.000225</td>\n",
       "    </tr>\n",
       "  </tbody>\n",
       "</table>\n",
       "</div>"
      ],
      "text/plain": [
       "         mean       ste\n",
       "FTD  0.087213  0.000623\n",
       "2TD  0.049875  0.000490\n",
       "3TD  0.031180  0.000395\n",
       "4TD  0.019286  0.000315\n",
       "NTD  0.009718  0.000225"
      ]
     },
     "execution_count": 116,
     "metadata": {},
     "output_type": "execute_result"
    }
   ],
   "source": [
    "sample_result(0.8, 100000)"
   ]
  },
  {
   "cell_type": "code",
   "execution_count": 120,
   "metadata": {},
   "outputs": [
    {
     "data": {
      "text/html": [
       "<div>\n",
       "<style scoped>\n",
       "    .dataframe tbody tr th:only-of-type {\n",
       "        vertical-align: middle;\n",
       "    }\n",
       "\n",
       "    .dataframe tbody tr th {\n",
       "        vertical-align: top;\n",
       "    }\n",
       "\n",
       "    .dataframe thead th {\n",
       "        text-align: right;\n",
       "    }\n",
       "</style>\n",
       "<table border=\"1\" class=\"dataframe\">\n",
       "  <thead>\n",
       "    <tr style=\"text-align: right;\">\n",
       "      <th></th>\n",
       "      <th>mean</th>\n",
       "      <th>ste</th>\n",
       "    </tr>\n",
       "  </thead>\n",
       "  <tbody>\n",
       "    <tr>\n",
       "      <th>FTD</th>\n",
       "      <td>0.039679</td>\n",
       "      <td>0.000442</td>\n",
       "    </tr>\n",
       "    <tr>\n",
       "      <th>2TD</th>\n",
       "      <td>0.039663</td>\n",
       "      <td>0.000442</td>\n",
       "    </tr>\n",
       "    <tr>\n",
       "      <th>3TD</th>\n",
       "      <td>0.039663</td>\n",
       "      <td>0.000442</td>\n",
       "    </tr>\n",
       "    <tr>\n",
       "      <th>4TD</th>\n",
       "      <td>0.039663</td>\n",
       "      <td>0.000442</td>\n",
       "    </tr>\n",
       "    <tr>\n",
       "      <th>NTD</th>\n",
       "      <td>0.039663</td>\n",
       "      <td>0.000442</td>\n",
       "    </tr>\n",
       "  </tbody>\n",
       "</table>\n",
       "</div>"
      ],
      "text/plain": [
       "         mean       ste\n",
       "FTD  0.039679  0.000442\n",
       "2TD  0.039663  0.000442\n",
       "3TD  0.039663  0.000442\n",
       "4TD  0.039663  0.000442\n",
       "NTD  0.039663  0.000442"
      ]
     },
     "execution_count": 120,
     "metadata": {},
     "output_type": "execute_result"
    }
   ],
   "source": [
    "sample_result(.99999999, 100000)"
   ]
  },
  {
   "cell_type": "code",
   "execution_count": null,
   "metadata": {},
   "outputs": [],
   "source": []
  }
 ],
 "metadata": {
  "kernelspec": {
   "display_name": "Python [conda env:anaconda]",
   "language": "python",
   "name": "conda-env-anaconda-py"
  },
  "language_info": {
   "codemirror_mode": {
    "name": "ipython",
    "version": 2
   },
   "file_extension": ".py",
   "mimetype": "text/x-python",
   "name": "python",
   "nbconvert_exporter": "python",
   "pygments_lexer": "ipython2",
   "version": "2.7.14"
  }
 },
 "nbformat": 4,
 "nbformat_minor": 2
}
