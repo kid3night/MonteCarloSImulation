{
 "cells": [
  {
   "cell_type": "code",
   "execution_count": 1,
   "metadata": {},
   "outputs": [],
   "source": [
    "import pandas as pd\n",
    "from pandas import Series, DataFrame\n",
    "import numpy as np\n",
    "import matplotlib.pyplot as plt\n",
    "from scipy.stats import norm"
   ]
  },
  {
   "cell_type": "markdown",
   "metadata": {},
   "source": [
    "Question 1"
   ]
  },
  {
   "cell_type": "markdown",
   "metadata": {},
   "source": [
    "(a)"
   ]
  },
  {
   "cell_type": "code",
   "execution_count": 2,
   "metadata": {},
   "outputs": [],
   "source": [
    "def f(ls):\n",
    "    x = []\n",
    "    for i in ls:\n",
    "        x.append(str(i))\n",
    "    return x"
   ]
  },
  {
   "cell_type": "code",
   "execution_count": 3,
   "metadata": {},
   "outputs": [
    {
     "data": {
      "text/html": [
       "<div>\n",
       "<style scoped>\n",
       "    .dataframe tbody tr th:only-of-type {\n",
       "        vertical-align: middle;\n",
       "    }\n",
       "\n",
       "    .dataframe tbody tr th {\n",
       "        vertical-align: top;\n",
       "    }\n",
       "\n",
       "    .dataframe thead th {\n",
       "        text-align: right;\n",
       "    }\n",
       "</style>\n",
       "<table border=\"1\" class=\"dataframe\">\n",
       "  <thead>\n",
       "    <tr style=\"text-align: right;\">\n",
       "      <th></th>\n",
       "      <th>Price</th>\n",
       "      <th>Std</th>\n",
       "    </tr>\n",
       "  </thead>\n",
       "  <tbody>\n",
       "    <tr>\n",
       "      <th>[0.1, 0.1]</th>\n",
       "      <td>10.679813</td>\n",
       "      <td>0.152866</td>\n",
       "    </tr>\n",
       "    <tr>\n",
       "      <th>[0.1, 1.0]</th>\n",
       "      <td>10.397055</td>\n",
       "      <td>0.153572</td>\n",
       "    </tr>\n",
       "  </tbody>\n",
       "</table>\n",
       "</div>"
      ],
      "text/plain": [
       "                Price       Std\n",
       "[0.1, 0.1]  10.679813  0.152866\n",
       "[0.1, 1.0]  10.397055  0.153572"
      ]
     },
     "execution_count": 3,
     "metadata": {},
     "output_type": "execute_result"
    }
   ],
   "source": [
    "def Euler_disc(n, alpha, psi):\n",
    "    S0 = 100.0\n",
    "    r = 0.05\n",
    "    T = 1.0\n",
    "    v0_square = 0.04\n",
    "    N = 50\n",
    "    delta = T / N\n",
    "    w1 = np.random.normal(0, 1, (n, N))\n",
    "    w2 = np.random.normal(0, 1, (n, N))\n",
    "    v_sq = np.zeros((n, N))\n",
    "    v_sq[:, 0] = v0_square + alpha * v0_square * delta + psi * v0_square * np.sqrt(delta) * w2[:, 0]\n",
    "    S = np.zeros((n, N))\n",
    "    S[:, 0] = S0 + r * S0 * delta + np.sqrt(v0_square * delta) * w1[:, 0] * S0\n",
    "    for i in xrange(1, N):\n",
    "        S[:, i] = S[:, i - 1] + r * S[:, i - 1] * delta + np.sqrt(v_sq[:, i - 1] * delta) * w1[:, i] * S[:, i - 1]\n",
    "        v_sq[:, i] = v_sq[:, i - 1] + alpha * v_sq[:, i - 1] * delta + psi * v_sq[:, i - 1] * np.sqrt(delta) * w2[:, i]\n",
    "    return S[:, -1]\n",
    "\n",
    "def common_Mont(n, K, alpha, psi):\n",
    "    S = Euler_disc(n, alpha, psi)\n",
    "    r = 0.05\n",
    "    T = 1.0\n",
    "    disc_factor = np.exp(-r * T)\n",
    "    C = (S - K) * disc_factor\n",
    "    C[C < 0] = 0\n",
    "    c = C.mean()\n",
    "    v = C.std() / np.sqrt(n)\n",
    "    return (c, v)\n",
    "\n",
    "\n",
    "paras = [[0.1, 0.1], [0.1, 1.0]]\n",
    "\n",
    "pricing = np.array([list(common_Mont(10000, 100.0, i[0], i[1])) for i in paras])\n",
    "\n",
    "result = pd.DataFrame({\"Price\": pricing[:, 0], \"Std\": pricing[:, 1]},\n",
    "                     index=f(paras))\n",
    "\n",
    "result    "
   ]
  },
  {
   "cell_type": "markdown",
   "metadata": {},
   "source": [
    "(b)"
   ]
  },
  {
   "cell_type": "code",
   "execution_count": 4,
   "metadata": {},
   "outputs": [
    {
     "data": {
      "text/html": [
       "<div>\n",
       "<style scoped>\n",
       "    .dataframe tbody tr th:only-of-type {\n",
       "        vertical-align: middle;\n",
       "    }\n",
       "\n",
       "    .dataframe tbody tr th {\n",
       "        vertical-align: top;\n",
       "    }\n",
       "\n",
       "    .dataframe thead th {\n",
       "        text-align: right;\n",
       "    }\n",
       "</style>\n",
       "<table border=\"1\" class=\"dataframe\">\n",
       "  <thead>\n",
       "    <tr style=\"text-align: right;\">\n",
       "      <th></th>\n",
       "      <th>Price</th>\n",
       "      <th>Std</th>\n",
       "    </tr>\n",
       "  </thead>\n",
       "  <tbody>\n",
       "    <tr>\n",
       "      <th>[0.1, 0.1]</th>\n",
       "      <td>10.640567</td>\n",
       "      <td>0.002278</td>\n",
       "    </tr>\n",
       "    <tr>\n",
       "      <th>[0.1, 1.0]</th>\n",
       "      <td>10.312163</td>\n",
       "      <td>0.022742</td>\n",
       "    </tr>\n",
       "  </tbody>\n",
       "</table>\n",
       "</div>"
      ],
      "text/plain": [
       "                Price       Std\n",
       "[0.1, 0.1]  10.640567  0.002278\n",
       "[0.1, 1.0]  10.312163  0.022742"
      ]
     },
     "execution_count": 4,
     "metadata": {},
     "output_type": "execute_result"
    }
   ],
   "source": [
    "def black_scholes (s, k, t, v, r):\n",
    "\n",
    "    d1 = np.log(s / k) / (v * np.sqrt(t)) + (r + (v ** 2) / 2) * np.sqrt(t) / v\n",
    "    d2 = d1 - v * np.sqrt(t)\n",
    "    pv = np.exp(-r * t)\n",
    "    optprice = s * norm.cdf(d1) - k * pv * norm.cdf(d2)\n",
    "    return optprice\n",
    "\n",
    "\n",
    "def Euler_disc_V(n, alpha, psi):\n",
    "    T = 1.0\n",
    "    v0_square = 0.04\n",
    "    N = 50\n",
    "    delta = T / N\n",
    "    w2 = np.random.normal(0, 1, (n, N))\n",
    "    v_sq = np.zeros((n, N))\n",
    "    v_sq[:, 0] = v0_square + alpha * v0_square * delta + psi * v0_square * np.sqrt(delta) * w2[:, 0]\n",
    "\n",
    "    for i in xrange(1, N):\n",
    "        v_sq[:, i] = v_sq[:, i - 1] + alpha * v_sq[:, i - 1] * delta + psi * v_sq[:, i - 1] * np.sqrt(delta) * w2[:, i]\n",
    "    \n",
    "    return v_sq.sum(axis=1) / N\n",
    "\n",
    "def Avg_vol(n, alpha, psi):\n",
    "    S = 100.0\n",
    "    K = 100.0\n",
    "    sigma = np.sqrt(Euler_disc_V(n, alpha, psi))\n",
    "    T = 1.0\n",
    "    r = 0.05\n",
    "    C = black_scholes(S, K, T, sigma, r)\n",
    "    c = C.mean()\n",
    "    v = C.std() / np.sqrt(n)\n",
    "    return (c, v)\n",
    "\n",
    "    \n",
    "paras = [[0.1, 0.1], [0.1, 1.0]]\n",
    "\n",
    "pricing = np.array([list(Avg_vol(10000, i[0], i[1])) for i in paras])\n",
    "\n",
    "result = pd.DataFrame({\"Price\": pricing[:, 0], \"Std\": pricing[:, 1]},\n",
    "                     index=f(paras))\n",
    "\n",
    "result       "
   ]
  },
  {
   "cell_type": "markdown",
   "metadata": {},
   "source": [
    "Question 2"
   ]
  },
  {
   "cell_type": "markdown",
   "metadata": {},
   "source": [
    "(a)"
   ]
  },
  {
   "cell_type": "code",
   "execution_count": 5,
   "metadata": {},
   "outputs": [
    {
     "data": {
      "text/plain": [
       "(0.96038748936875895, 0.00032859664479599872)"
      ]
     },
     "execution_count": 5,
     "metadata": {},
     "output_type": "execute_result"
    }
   ],
   "source": [
    "def lambdas(alpha, tao, sigma, r):\n",
    "    numer = 4 * alpha * np.exp(-alpha * tao)\n",
    "    deno = sigma ** 2 * (1 - np.exp(-alpha * tao))\n",
    "    return numer / deno * r\n",
    "    \n",
    "def r_calculate(sigma, alpha, tao, lamb, df, n):\n",
    "    numer = sigma ** 2 * (1 - np.exp(-alpha * tao))\n",
    "    deno = 4 * alpha\n",
    "    chi_sq = np.random.noncentral_chisquare(df, lamb, n)\n",
    "    return numer / deno * chi_sq\n",
    "\n",
    "def CIR(n):\n",
    "    alpha = .2\n",
    "    sigma = .1\n",
    "    b = .05\n",
    "    r0 = .04\n",
    "    N = 50\n",
    "    d = 4 * b * alpha / sigma ** 2\n",
    "    T = 1.0\n",
    "    delta = T / N\n",
    "    rs = np.zeros((n, N))\n",
    "    lamb = lambdas(alpha, delta, sigma, r0)\n",
    "    rs[:, 0] = r_calculate(sigma, alpha, delta, lamb, d, n)\n",
    "    for i in xrange(1, N):\n",
    "        lamb = lambdas(alpha, delta, sigma, rs[:, i - 1])\n",
    "        rs[:, i] = r_calculate(sigma, alpha, delta, lamb, d, n)\n",
    "    disc_factor = np.exp(-rs.sum(axis=1) * delta)\n",
    "    return disc_factor\n",
    "\n",
    "CIR(1000).mean(), CIR(1000).std() / np.sqrt(1000)"
   ]
  },
  {
   "cell_type": "markdown",
   "metadata": {},
   "source": [
    "(b)"
   ]
  },
  {
   "cell_type": "code",
   "execution_count": 6,
   "metadata": {},
   "outputs": [
    {
     "data": {
      "text/plain": [
       "(0.00038693999040142758, 2.5523544853084534e-05)"
      ]
     },
     "execution_count": 6,
     "metadata": {},
     "output_type": "execute_result"
    }
   ],
   "source": [
    "def lambdas(alpha, tao, sigma, r):\n",
    "    numer = 4 * alpha * np.exp(-alpha * tao)\n",
    "    deno = sigma ** 2 * (1 - np.exp(-alpha * tao))\n",
    "    return numer / deno * r\n",
    "    \n",
    "def r_calculate(sigma, alpha, tao, lamb, df, n):\n",
    "    numer = sigma ** 2 * (1 - np.exp(-alpha * tao))\n",
    "    deno = 4 * alpha\n",
    "    chi_sq = np.random.noncentral_chisquare(df, lamb, n)\n",
    "    return numer / deno * chi_sq\n",
    "\n",
    "def CIR_cap(n):\n",
    "    alpha = .2\n",
    "    delt = 1 / 12.0\n",
    "    L = 1.0\n",
    "    R = 0.05\n",
    "    sigma = .1\n",
    "    b = .05\n",
    "    r0 = .04\n",
    "    N = 50\n",
    "    d = 4 * b * alpha / sigma ** 2\n",
    "    T = 1.0\n",
    "    delta = T / N\n",
    "    rs = np.zeros((n, N))\n",
    "    lamb = lambdas(alpha, delta, sigma, r0)\n",
    "    rs[:, 0] = r_calculate(sigma, alpha, delta, lamb, d, n)\n",
    "    for i in xrange(1, N):\n",
    "        lamb = lambdas(alpha, delta, sigma, rs[:, i - 1])\n",
    "        rs[:, i] = r_calculate(sigma, alpha, delta, lamb, d, n)\n",
    "    cap = L * (rs[:, -1] - R) * delt\n",
    "    cap[cap < 0] = 0\n",
    "    \n",
    "    \n",
    "    return cap.mean(), cap.std() / np.sqrt(1000)\n",
    "\n",
    "CIR_cap(1000)"
   ]
  },
  {
   "cell_type": "markdown",
   "metadata": {},
   "source": [
    "Questions 3"
   ]
  },
  {
   "cell_type": "markdown",
   "metadata": {},
   "source": [
    "(a)"
   ]
  },
  {
   "cell_type": "code",
   "execution_count": 7,
   "metadata": {},
   "outputs": [],
   "source": [
    "def call_price(ST, K, disc_factor):\n",
    "    ST[ST < K] = K\n",
    "    result = (ST - K) * disc_factor\n",
    "    return result"
   ]
  },
  {
   "cell_type": "code",
   "execution_count": 8,
   "metadata": {},
   "outputs": [
    {
     "name": "stdout",
     "output_type": "stream",
     "text": [
      "(0.2458006925636351, 0.0047571686029070012)\n"
     ]
    }
   ],
   "source": [
    "def Resimulation_delta():\n",
    "    K = 100\n",
    "    r = .1\n",
    "    delt = .03\n",
    "    sigma = .25\n",
    "    T = .2\n",
    "    n = 10000\n",
    "    h = .0001\n",
    "    disc_factor = np.exp(-r * T)\n",
    "    Zs = np.random.normal(0, 1, n)\n",
    "    S01 = 90.0 + h\n",
    "    S02 = 90.0 - h\n",
    "    ST1 = S01 * np.exp((r - .5 * sigma ** 2) * T + sigma * np.sqrt(T) * Zs)\n",
    "    c1 = call_price(ST1, K, disc_factor)\n",
    "    ST2 = S02 * np.exp((r - .5 * sigma ** 2) * T + sigma * np.sqrt(T) * Zs)\n",
    "    c2 = call_price(ST2, K, disc_factor)\n",
    "    results = (c1 - c2) / (2 * h)\n",
    "    return results.mean(), results.std() / np.sqrt(n)\n",
    "\n",
    "\n",
    "print Resimulation_delta()"
   ]
  },
  {
   "cell_type": "code",
   "execution_count": 9,
   "metadata": {},
   "outputs": [
    {
     "data": {
      "text/plain": [
       "(0.23879716038564139, 0.0030960732097133313)"
      ]
     },
     "execution_count": 9,
     "metadata": {},
     "output_type": "execute_result"
    }
   ],
   "source": [
    "def Resimulation_delta_control():\n",
    "    K = 100\n",
    "    r = .1\n",
    "    delt = .03\n",
    "    sigma = .25\n",
    "    T = .2\n",
    "    n = 10000\n",
    "    h = .0001\n",
    "    disc_factor = np.exp(-r * T)\n",
    "    Zs = np.random.normal(0, 1, n)\n",
    "    S0 = 90.0\n",
    "    S01 = 90.0 + h\n",
    "    S02 = 90.0 - h\n",
    "    EST = S0 / disc_factor\n",
    "    ST = S0 * np.exp((r - .5 * sigma ** 2) * T + sigma * np.sqrt(T) * Zs)\n",
    "    ST1 = S01 * np.exp((r - .5 * sigma ** 2) * T + sigma * np.sqrt(T) * Zs)\n",
    "    c1 = call_price(ST1, K, disc_factor)\n",
    "    ST2 = S02 * np.exp((r - .5 * sigma ** 2) * T + sigma * np.sqrt(T) * Zs)\n",
    "    c2 = call_price(ST2, K, disc_factor)\n",
    "    results = (c1 - c2) / (2 * h)\n",
    "    X = ST\n",
    "    Y = results\n",
    "    sig_x = np.sum((X - X.mean()) ** 2 / (len(X) - 1)) ** 0.5\n",
    "    sig_xy = np.cov(X, Y)[0, 1] * len(Y) / (len(Y) - 1)\n",
    "    a_hat = -sig_xy / sig_x ** 2\n",
    "    c = Y + a_hat * (X - EST)\n",
    "    return c.mean(), c.std() / np.sqrt(n)\n",
    "\n",
    "Resimulation_delta_control()"
   ]
  },
  {
   "cell_type": "code",
   "execution_count": 10,
   "metadata": {},
   "outputs": [
    {
     "data": {
      "text/plain": [
       "(12.165904403113496, 0.27553051183209304)"
      ]
     },
     "execution_count": 10,
     "metadata": {},
     "output_type": "execute_result"
    }
   ],
   "source": [
    "def Resimulation_vega():\n",
    "    K = 100\n",
    "    r = .1\n",
    "    sigma = .25\n",
    "    T = .2\n",
    "    n = 10000\n",
    "    h = .0001\n",
    "    disc_factor = np.exp(-r * T)\n",
    "    Zs = np.random.normal(0, 1, n)\n",
    "    S0 = 90.0\n",
    "    sigma1 = .25 + h\n",
    "    sigma2 = .25 - h\n",
    "    ST = S0 * np.exp((r - .5 * sigma ** 2) * T + sigma * np.sqrt(T) * Zs)\n",
    "    ST1 = S0 * np.exp((r - .5 * sigma1 ** 2) * T + sigma1 * np.sqrt(T) * Zs)\n",
    "    c1 = call_price(ST1, K, disc_factor)\n",
    "    ST2 = S0 * np.exp((r - .5 * sigma2 ** 2) * T + sigma2 * np.sqrt(T) * Zs)\n",
    "    c2 = call_price(ST2, K, disc_factor)\n",
    "    results = (c1 - c2) / (2 * h)\n",
    "    \n",
    "    return results.mean(), results.std() / np.sqrt(n)\n",
    "\n",
    "Resimulation_vega()"
   ]
  },
  {
   "cell_type": "code",
   "execution_count": 11,
   "metadata": {},
   "outputs": [
    {
     "data": {
      "text/plain": [
       "(12.703390987818013, 0.17566544566502951)"
      ]
     },
     "execution_count": 11,
     "metadata": {},
     "output_type": "execute_result"
    }
   ],
   "source": [
    "def Resimulation_vega_control():\n",
    "    K = 100\n",
    "    r = .1\n",
    "    sigma = .25\n",
    "    T = .2\n",
    "    n = 10000\n",
    "    h = .0001\n",
    "    disc_factor = np.exp(-r * T)\n",
    "    Zs = np.random.normal(0, 1, n)\n",
    "    S0 = 90.0\n",
    "    sigma1 = .25 + h\n",
    "    sigma2 = .25 - h\n",
    "    EST = S0 / disc_factor\n",
    "    ST = S0 * np.exp((r - .5 * sigma ** 2) * T + sigma * np.sqrt(T) * Zs)\n",
    "    ST1 = S0 * np.exp((r - .5 * sigma1 ** 2) * T + sigma1 * np.sqrt(T) * Zs)\n",
    "    c1 = call_price(ST1, K, disc_factor)\n",
    "    ST2 = S0 * np.exp((r - .5 * sigma2 ** 2) * T + sigma2 * np.sqrt(T) * Zs)\n",
    "    c2 = call_price(ST2, K, disc_factor)\n",
    "    results = (c1 - c2) / (2 * h)\n",
    "    X = ST\n",
    "    Y = results\n",
    "    sig_x = np.sum((X - X.mean()) ** 2 / (len(X) - 1)) ** 0.5\n",
    "    sig_xy = np.cov(X, Y)[0, 1] * len(Y) / (len(Y) - 1)\n",
    "    a_hat = -sig_xy / sig_x ** 2\n",
    "    c = Y + a_hat * (X - EST)\n",
    "    \n",
    "    return c.mean(), c.std() / np.sqrt(n)\n",
    "\n",
    "Resimulation_vega_control()"
   ]
  },
  {
   "cell_type": "code",
   "execution_count": 12,
   "metadata": {},
   "outputs": [
    {
     "name": "stdout",
     "output_type": "stream",
     "text": [
      "(0.23656347375004239, 0.0046796627753522609)\n"
     ]
    }
   ],
   "source": [
    "def Greek_delta_Pathwise():\n",
    "    K = 100\n",
    "    r = .1\n",
    "    delt = .03\n",
    "    sigma = .25\n",
    "    T = .2\n",
    "    n = 10000\n",
    "    h = .0001\n",
    "    disc_factor = np.exp(-r * T)\n",
    "    Zs = np.random.normal(0, 1, n)\n",
    "    S0 = 90.0\n",
    "    ST = S0 * np.exp((r - .5 * sigma ** 2) * T + sigma * np.sqrt(T) * Zs)\n",
    "    results = (ST > K) * ST / S0 * disc_factor\n",
    "    return results.mean(), results.std() / np.sqrt(n)\n",
    "\n",
    "\n",
    "print Greek_delta_Pathwise()"
   ]
  },
  {
   "cell_type": "code",
   "execution_count": 13,
   "metadata": {},
   "outputs": [
    {
     "name": "stdout",
     "output_type": "stream",
     "text": [
      "(0.24038374592947157, 0.0031252711389849145)\n"
     ]
    }
   ],
   "source": [
    "def Greek_delta_Pathwise_control():\n",
    "    K = 100\n",
    "    r = .1\n",
    "    delt = .03\n",
    "    sigma = .25\n",
    "    T = .2\n",
    "    n = 10000\n",
    "    h = .0001\n",
    "    disc_factor = np.exp(-r * T)\n",
    "    Zs = np.random.normal(0, 1, n)\n",
    "    S0 = 90.0\n",
    "    EST = S0 / disc_factor\n",
    "    ST = S0 * np.exp((r - .5 * sigma ** 2) * T + sigma * np.sqrt(T) * Zs)\n",
    "    results = (ST > K) * ST / S0 * disc_factor\n",
    "    X = ST\n",
    "    Y = results\n",
    "    sig_x = np.sum((X - X.mean()) ** 2 / (len(X) - 1)) ** 0.5\n",
    "    sig_xy = np.cov(X, Y)[0, 1] * len(Y) / (len(Y) - 1)\n",
    "    a_hat = -sig_xy / sig_x ** 2\n",
    "    c = Y + a_hat * (X - EST)\n",
    "    \n",
    "    return c.mean(), c.std() / np.sqrt(n)\n",
    "\n",
    "\n",
    "print Greek_delta_Pathwise_control()"
   ]
  },
  {
   "cell_type": "code",
   "execution_count": 14,
   "metadata": {
    "scrolled": true
   },
   "outputs": [
    {
     "data": {
      "text/plain": [
       "(12.618306502880884, 0.28039731338942558)"
      ]
     },
     "execution_count": 14,
     "metadata": {},
     "output_type": "execute_result"
    }
   ],
   "source": [
    "def Greek_vega_Pathwise():\n",
    "    K = 100\n",
    "    r = .1\n",
    "    delt = .03\n",
    "    sigma = .25\n",
    "    T = .2\n",
    "    n = 10000\n",
    "    h = .0001\n",
    "    disc_factor = np.exp(-r * T)\n",
    "    Zs = np.random.normal(0, 1, n)\n",
    "    S0 = 90.0\n",
    "    ST = S0 * np.exp((r - .5 * sigma ** 2) * T + sigma * np.sqrt(T) * Zs)\n",
    "    ST_selected = np.zeros(len(ST))\n",
    "    ST_selected[ST > K] = ST[ST > K]\n",
    "    ST_selected[ST < K] = S0\n",
    "    ST_re = (np.log(ST_selected / S0) - (r + 0.5 * sigma ** 2 - delt) * T) / sigma\n",
    "    results = disc_factor * ST_re * ST_selected\n",
    "    results[ST < K] = 0\n",
    "#     EST = S0 / disc_factor\n",
    "#     X = ST\n",
    "#     Y = results\n",
    "#     sig_x = np.sum((X - X.mean()) ** 2 / (len(X) - 1)) ** 0.5\n",
    "#     sig_xy = np.cov(X, Y)[0, 1] * len(Y) / (len(Y) - 1)\n",
    "#     a_hat = -sig_xy / sig_x ** 2\n",
    "#     c = Y + a_hat * (X - EST)\n",
    "    return results.mean(), results.std() / np.sqrt(n)\n",
    "\n",
    "Greek_vega_Pathwise()"
   ]
  },
  {
   "cell_type": "code",
   "execution_count": 15,
   "metadata": {},
   "outputs": [
    {
     "data": {
      "text/plain": [
       "(13.118377327037928, 0.18006531746043808)"
      ]
     },
     "execution_count": 15,
     "metadata": {},
     "output_type": "execute_result"
    }
   ],
   "source": [
    "def Greek_vega_Pathwise_Control():\n",
    "    K = 100\n",
    "    r = .1\n",
    "    delt = .03\n",
    "    sigma = .25\n",
    "    T = .2\n",
    "    n = 10000\n",
    "    h = .0001\n",
    "    disc_factor = np.exp(-r * T)\n",
    "    Zs = np.random.normal(0, 1, n)\n",
    "    S0 = 90.0\n",
    "    ST = S0 * np.exp((r - .5 * sigma ** 2) * T + sigma * np.sqrt(T) * Zs)\n",
    "    ST_selected = np.zeros(len(ST))\n",
    "    ST_selected[ST > K] = ST[ST > K]\n",
    "    ST_selected[ST < K] = S0\n",
    "    ST_re = (np.log(ST_selected / S0) - (r + 0.5 * sigma ** 2 - delt) * T) / sigma\n",
    "    results = disc_factor * ST_re * ST_selected\n",
    "    results[ST < K] = 0\n",
    "    EST = S0 / disc_factor\n",
    "    X = ST\n",
    "    Y = results\n",
    "    sig_x = np.sum((X - X.mean()) ** 2 / (len(X) - 1)) ** 0.5\n",
    "    sig_xy = np.cov(X, Y)[0, 1] * len(Y) / (len(Y) - 1)\n",
    "    a_hat = -sig_xy / sig_x ** 2\n",
    "    c = Y + a_hat * (X - EST)\n",
    "    return c.mean(), c.std() / np.sqrt(n)\n",
    "\n",
    "Greek_vega_Pathwise_Control()"
   ]
  },
  {
   "cell_type": "code",
   "execution_count": 16,
   "metadata": {},
   "outputs": [
    {
     "data": {
      "text/plain": [
       "(0.24449846228376559, 0.0087183960741037177)"
      ]
     },
     "execution_count": 16,
     "metadata": {},
     "output_type": "execute_result"
    }
   ],
   "source": [
    "def log_likelihood_delta():\n",
    "    K = 100\n",
    "    r = .1\n",
    "    delt = .03\n",
    "    sigma = .25\n",
    "    T = .2\n",
    "    n = 10000\n",
    "    h = .0001\n",
    "    disc_factor = np.exp(-r * T)\n",
    "    Zs = np.random.normal(0, 1, n)\n",
    "    S0 = 90.0\n",
    "    EST = S0 / disc_factor\n",
    "    ST = S0 * np.exp((r - .5 * sigma ** 2) * T + sigma * np.sqrt(T) * Zs)\n",
    "    H = ST - K\n",
    "    H[H < 0] = 0\n",
    "    temp = (np.log(ST / S0) - (r - .5 * sigma ** 2) * T) / (S0 * sigma ** 2 * T)\n",
    "    c = disc_factor * H * temp\n",
    "    return c.mean(), c.std() / np.sqrt(n) \n",
    "    \n",
    "log_likelihood_delta()    "
   ]
  },
  {
   "cell_type": "code",
   "execution_count": 17,
   "metadata": {},
   "outputs": [
    {
     "data": {
      "text/plain": [
       "(0.24156258280939083, 0.0065948759096517351)"
      ]
     },
     "execution_count": 17,
     "metadata": {},
     "output_type": "execute_result"
    }
   ],
   "source": [
    "def log_likelihood_delta_control():\n",
    "    K = 100\n",
    "    r = .1\n",
    "    delt = .03\n",
    "    sigma = .25\n",
    "    T = .2\n",
    "    n = 10000\n",
    "    h = .0001\n",
    "    disc_factor = np.exp(-r * T)\n",
    "    Zs = np.random.normal(0, 1, n)\n",
    "    S0 = 90.0\n",
    "    EST = S0 / disc_factor\n",
    "    ST = S0 * np.exp((r - .5 * sigma ** 2) * T + sigma * np.sqrt(T) * Zs)\n",
    "    H = ST - K\n",
    "    H[H < 0] = 0\n",
    "    temp = (np.log(ST / S0) - (r - .5 * sigma ** 2) * T) / (S0 * sigma ** 2 * T)\n",
    "    result = disc_factor * H * temp\n",
    "    X = ST\n",
    "    Y = result\n",
    "    sig_x = np.sum((X - X.mean()) ** 2 / (len(X) - 1)) ** 0.5\n",
    "    sig_xy = np.cov(X, Y)[0, 1] * len(Y) / (len(Y) - 1)\n",
    "    a_hat = -sig_xy / sig_x ** 2\n",
    "    c = Y + a_hat * (X - EST)\n",
    "    return c.mean(), c.std() / np.sqrt(n) \n",
    "    \n",
    "log_likelihood_delta_control()    "
   ]
  },
  {
   "cell_type": "code",
   "execution_count": 18,
   "metadata": {},
   "outputs": [
    {
     "data": {
      "text/plain": [
       "(13.885495490621144, 0.75903076115262436)"
      ]
     },
     "execution_count": 18,
     "metadata": {},
     "output_type": "execute_result"
    }
   ],
   "source": [
    "def log_likelihood_vega():\n",
    "    K = 100\n",
    "    r = .1\n",
    "    delt = .03\n",
    "    sigma = .25\n",
    "    T = .2\n",
    "    n = 10000\n",
    "    h = .0001\n",
    "    disc_factor = np.exp(-r * T)\n",
    "    Zs = np.random.normal(0, 1, n)\n",
    "    S0 = 90.0\n",
    "    EST = S0 / disc_factor\n",
    "    ST = S0 * np.exp((r - .5 * sigma ** 2) * T + sigma * np.sqrt(T) * Zs)\n",
    "    H = ST - K\n",
    "    H[H < 0] = 0\n",
    "    d = (np.log(ST / S0) - (r - .5 * (sigma ** 2) - delt) * T) / (sigma * np.sqrt(T))\n",
    "    d_prime = ((np.log(S0 / ST) + (r - delt + sigma ** 2) * T)) / (sigma ** 2 * np.sqrt(T))\n",
    "    temp = -d * d_prime - 1 / sigma\n",
    "    c = disc_factor * H * temp\n",
    "    return c.mean(), c.std() / np.sqrt(n) \n",
    "    \n",
    "log_likelihood_vega()    "
   ]
  },
  {
   "cell_type": "code",
   "execution_count": 19,
   "metadata": {},
   "outputs": [
    {
     "data": {
      "text/plain": [
       "(12.67002229736859, 0.65604368182614747)"
      ]
     },
     "execution_count": 19,
     "metadata": {},
     "output_type": "execute_result"
    }
   ],
   "source": [
    "def log_likelihood_vega_control():\n",
    "    K = 100\n",
    "    r = .1\n",
    "    delt = .03\n",
    "    sigma = .25\n",
    "    T = .2\n",
    "    n = 10000\n",
    "    h = .0001\n",
    "    disc_factor = np.exp(-r * T)\n",
    "    Zs = np.random.normal(0, 1, n)\n",
    "    S0 = 90.0\n",
    "    EST = S0 / disc_factor\n",
    "    ST = S0 * np.exp((r - .5 * sigma ** 2) * T + sigma * np.sqrt(T) * Zs)\n",
    "    H = ST - K\n",
    "    H[H < 0] = 0\n",
    "    d = (np.log(ST / S0) - (r - .5 * (sigma ** 2) - delt) * T) / (sigma * np.sqrt(T))\n",
    "    d_prime = ((np.log(S0 / ST) + (r - delt + sigma ** 2) * T)) / (sigma ** 2 * np.sqrt(T))\n",
    "    temp = -d * d_prime - 1 / sigma\n",
    "    result = disc_factor * H * temp\n",
    "    X = ST\n",
    "    Y = result\n",
    "    sig_x = np.sum((X - X.mean()) ** 2 / (len(X) - 1)) ** 0.5\n",
    "    sig_xy = np.cov(X, Y)[0, 1] * len(Y) / (len(Y) - 1)\n",
    "    a_hat = -sig_xy / sig_x ** 2\n",
    "    c = Y + a_hat * (X - EST) \n",
    "    return c.mean(), c.std() / np.sqrt(n) \n",
    "    \n",
    "log_likelihood_vega_control()    "
   ]
  },
  {
   "cell_type": "markdown",
   "metadata": {},
   "source": [
    "Question 4"
   ]
  },
  {
   "cell_type": "code",
   "execution_count": 20,
   "metadata": {},
   "outputs": [],
   "source": [
    "from scipy.stats import norm"
   ]
  },
  {
   "cell_type": "code",
   "execution_count": 21,
   "metadata": {},
   "outputs": [
    {
     "data": {
      "text/plain": [
       "(0.43528841364206289, 0.019860050706032074)"
      ]
     },
     "execution_count": 21,
     "metadata": {},
     "output_type": "execute_result"
    }
   ],
   "source": [
    "def digital_option_close_form():\n",
    "    K = 100\n",
    "    r = .05\n",
    "    sigma = .2\n",
    "    T = 1.0\n",
    "    S0 = 95.0\n",
    "    disc_factor = np.exp(-r * T)\n",
    "    deno = sigma * S0 * np.sqrt(T)\n",
    "    x = (np.log(K / S0) - (r - 0.5 * sigma ** 2) * T) / (sigma * np.sqrt(T))\n",
    "    d1 = np.log(S0 / K) / (sigma * np.sqrt(T)) + (r + (sigma ** 2) / 2) * np.sqrt(T) / sigma\n",
    "    d2 = d1 - sigma * np.sqrt(T)\n",
    "    price = disc_factor * (1 - norm.cdf(x))\n",
    "    Nd2_prime = 1 / np.sqrt(2 * np.pi) * np.exp(-0.5 * d2 ** 2)\n",
    "    delta = disc_factor * Nd2_prime / deno\n",
    "    return price, delta\n",
    "\n",
    "digital_option_close_form()"
   ]
  },
  {
   "cell_type": "code",
   "execution_count": 22,
   "metadata": {},
   "outputs": [],
   "source": [
    "def digital_pay_off(ST, K, disc_factor):\n",
    "    result = (ST > K) * disc_factor\n",
    "    return result\n",
    "    "
   ]
  },
  {
   "cell_type": "code",
   "execution_count": 23,
   "metadata": {},
   "outputs": [
    {
     "name": "stdout",
     "output_type": "stream",
     "text": [
      "(0.0, 0.0)\n"
     ]
    }
   ],
   "source": [
    "def Resimulation_delta_digital():\n",
    "    K = 100\n",
    "    r = .05\n",
    "    delt = .03\n",
    "    sigma = .2\n",
    "    T = 1.0\n",
    "    n = 10000\n",
    "    h = .0001\n",
    "    disc_factor = np.exp(-r * T)\n",
    "    Zs = np.random.normal(0, 1, n)\n",
    "    S01 = 95.0 + h\n",
    "    S02 = 95.0 - h\n",
    "    ST1 = S01 * np.exp((r - .5 * sigma ** 2) * T + sigma * np.sqrt(T) * Zs)\n",
    "    c1 = digital_pay_off(ST1, K, disc_factor)\n",
    "    ST2 = S02 * np.exp((r - .5 * sigma ** 2) * T + sigma * np.sqrt(T) * Zs)\n",
    "    c2 = digital_pay_off(ST2, K, disc_factor)\n",
    "    results = (c1 - c2) / (2 * h)\n",
    "    return results.mean(), results.std() / np.sqrt(n) \n",
    "\n",
    "\n",
    "print Resimulation_delta_digital()"
   ]
  },
  {
   "cell_type": "markdown",
   "metadata": {},
   "source": [
    "We can see that given the sample size is samll(only 10000, using this way we cannot get a good result.)"
   ]
  },
  {
   "cell_type": "code",
   "execution_count": 24,
   "metadata": {},
   "outputs": [
    {
     "data": {
      "text/plain": [
       "(0.019931077701920059, 0.00029512178135787849)"
      ]
     },
     "execution_count": 24,
     "metadata": {},
     "output_type": "execute_result"
    }
   ],
   "source": [
    "def log_likelihood_delta_digital():\n",
    "    K = 100\n",
    "    r = .05\n",
    "    delt = .03\n",
    "    sigma = .2\n",
    "    T = 1.0\n",
    "    n = 10000\n",
    "    h = .0001\n",
    "    disc_factor = np.exp(-r * T)\n",
    "    Zs = np.random.normal(0, 1, n)\n",
    "    S0 = 95.0\n",
    "    EST = S0 / disc_factor\n",
    "    ST = S0 * np.exp((r - .5 * sigma ** 2) * T + sigma * np.sqrt(T) * Zs)\n",
    "    H = ST > K\n",
    "    temp = (np.log(ST / S0) - (r - .5 * sigma ** 2) * T) / (S0 * sigma ** 2 * T)\n",
    "    c = disc_factor * H * temp\n",
    "    return c.mean(), c.std() / np.sqrt(n) \n",
    "    \n",
    "log_likelihood_delta_digital()    "
   ]
  }
 ],
 "metadata": {
  "kernelspec": {
   "display_name": "Python 3",
   "language": "python",
   "name": "python3"
  },
  "language_info": {
   "codemirror_mode": {
    "name": "ipython",
    "version": 3
   },
   "file_extension": ".py",
   "mimetype": "text/x-python",
   "name": "python",
   "nbconvert_exporter": "python",
   "pygments_lexer": "ipython3",
   "version": "3.6.7"
  }
 },
 "nbformat": 4,
 "nbformat_minor": 2
}
